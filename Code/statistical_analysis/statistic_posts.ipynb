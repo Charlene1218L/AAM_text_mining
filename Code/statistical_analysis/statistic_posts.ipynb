{
 "cells": [
  {
   "cell_type": "code",
   "execution_count": 1,
   "metadata": {},
   "outputs": [],
   "source": [
    "import pandas as pd"
   ]
  },
  {
   "cell_type": "code",
   "execution_count": 3,
   "metadata": {},
   "outputs": [
    {
     "name": "stderr",
     "output_type": "stream",
     "text": [
      "C:\\Users\\46649\\AppData\\Local\\Temp\\ipykernel_46708\\3891101144.py:2: DtypeWarning: Columns (2) have mixed types. Specify dtype option on import or set low_memory=False.\n",
      "  data=pd.read_csv(r'../../Data/interim/all_data_preprocessed_sent_topi_2.12.csv')\n"
     ]
    }
   ],
   "source": [
    "#data=pd.read_csv(r'../Data/interim/all_data_preprocessed.csv')\n",
    "data=pd.read_csv(r'../../Data/interim/all_data_preprocessed_sent_topi_2.12.csv')"
   ]
  },
  {
   "cell_type": "markdown",
   "metadata": {},
   "source": [
    "Posts_num"
   ]
  },
  {
   "cell_type": "code",
   "execution_count": null,
   "metadata": {},
   "outputs": [
    {
     "data": {
      "text/html": [
       "<div>\n",
       "<style scoped>\n",
       "    .dataframe tbody tr th:only-of-type {\n",
       "        vertical-align: middle;\n",
       "    }\n",
       "\n",
       "    .dataframe tbody tr th {\n",
       "        vertical-align: top;\n",
       "    }\n",
       "\n",
       "    .dataframe thead th {\n",
       "        text-align: right;\n",
       "    }\n",
       "</style>\n",
       "<table border=\"1\" class=\"dataframe\">\n",
       "  <thead>\n",
       "    <tr style=\"text-align: right;\">\n",
       "      <th>year</th>\n",
       "      <th>2015</th>\n",
       "      <th>2016</th>\n",
       "      <th>2017</th>\n",
       "      <th>2018</th>\n",
       "      <th>2019</th>\n",
       "      <th>2020</th>\n",
       "      <th>2021</th>\n",
       "      <th>2022</th>\n",
       "      <th>2023</th>\n",
       "      <th>2024</th>\n",
       "    </tr>\n",
       "    <tr>\n",
       "      <th>user_type</th>\n",
       "      <th></th>\n",
       "      <th></th>\n",
       "      <th></th>\n",
       "      <th></th>\n",
       "      <th></th>\n",
       "      <th></th>\n",
       "      <th></th>\n",
       "      <th></th>\n",
       "      <th></th>\n",
       "      <th></th>\n",
       "    </tr>\n",
       "  </thead>\n",
       "  <tbody>\n",
       "    <tr>\n",
       "      <th>--</th>\n",
       "      <td>10057</td>\n",
       "      <td>13665</td>\n",
       "      <td>22993</td>\n",
       "      <td>25391</td>\n",
       "      <td>29302</td>\n",
       "      <td>29938</td>\n",
       "      <td>41154</td>\n",
       "      <td>45863</td>\n",
       "      <td>40306</td>\n",
       "      <td>80871</td>\n",
       "    </tr>\n",
       "    <tr>\n",
       "      <th>Business</th>\n",
       "      <td>281</td>\n",
       "      <td>394</td>\n",
       "      <td>620</td>\n",
       "      <td>926</td>\n",
       "      <td>864</td>\n",
       "      <td>817</td>\n",
       "      <td>1460</td>\n",
       "      <td>1415</td>\n",
       "      <td>2265</td>\n",
       "      <td>17386</td>\n",
       "    </tr>\n",
       "    <tr>\n",
       "      <th>Government</th>\n",
       "      <td>35</td>\n",
       "      <td>55</td>\n",
       "      <td>267</td>\n",
       "      <td>453</td>\n",
       "      <td>310</td>\n",
       "      <td>349</td>\n",
       "      <td>358</td>\n",
       "      <td>379</td>\n",
       "      <td>1256</td>\n",
       "      <td>7895</td>\n",
       "    </tr>\n",
       "    <tr>\n",
       "      <th>Sum</th>\n",
       "      <td>10373</td>\n",
       "      <td>14114</td>\n",
       "      <td>23880</td>\n",
       "      <td>26770</td>\n",
       "      <td>30476</td>\n",
       "      <td>31104</td>\n",
       "      <td>42972</td>\n",
       "      <td>47657</td>\n",
       "      <td>43827</td>\n",
       "      <td>106152</td>\n",
       "    </tr>\n",
       "  </tbody>\n",
       "</table>\n",
       "</div>"
      ],
      "text/plain": [
       "year         2015   2016   2017   2018   2019   2020   2021   2022   2023  \\\n",
       "user_type                                                                   \n",
       "--          10057  13665  22993  25391  29302  29938  41154  45863  40306   \n",
       "Business      281    394    620    926    864    817   1460   1415   2265   \n",
       "Government     35     55    267    453    310    349    358    379   1256   \n",
       "Sum         10373  14114  23880  26770  30476  31104  42972  47657  43827   \n",
       "\n",
       "year          2024  \n",
       "user_type           \n",
       "--           80871  \n",
       "Business     17386  \n",
       "Government    7895  \n",
       "Sum         106152  "
      ]
     },
     "execution_count": 10,
     "metadata": {},
     "output_type": "execute_result"
    }
   ],
   "source": [
    "result = data.groupby(['user_type','year']).size().unstack(fill_value=0)\n",
    "result.loc['Sum'] = result.sum()\n",
    "result.to_csv('../../Data/output/texts/post_num.csv', encoding=\"utf_8_sig\",index=True)\n",
    "result"
   ]
  },
  {
   "cell_type": "markdown",
   "metadata": {},
   "source": [
    "Posts_nation"
   ]
  },
  {
   "cell_type": "code",
   "execution_count": null,
   "metadata": {},
   "outputs": [
    {
     "data": {
      "text/html": [
       "<div>\n",
       "<style scoped>\n",
       "    .dataframe tbody tr th:only-of-type {\n",
       "        vertical-align: middle;\n",
       "    }\n",
       "\n",
       "    .dataframe tbody tr th {\n",
       "        vertical-align: top;\n",
       "    }\n",
       "\n",
       "    .dataframe thead th {\n",
       "        text-align: right;\n",
       "    }\n",
       "</style>\n",
       "<table border=\"1\" class=\"dataframe\">\n",
       "  <thead>\n",
       "    <tr style=\"text-align: right;\">\n",
       "      <th></th>\n",
       "      <th>nation</th>\n",
       "    </tr>\n",
       "  </thead>\n",
       "  <tbody>\n",
       "    <tr>\n",
       "      <th>unknown</th>\n",
       "      <td>120017</td>\n",
       "    </tr>\n",
       "    <tr>\n",
       "      <th>united states</th>\n",
       "      <td>92139</td>\n",
       "    </tr>\n",
       "    <tr>\n",
       "      <th>china</th>\n",
       "      <td>82153</td>\n",
       "    </tr>\n",
       "    <tr>\n",
       "      <th>united kingdom</th>\n",
       "      <td>23136</td>\n",
       "    </tr>\n",
       "    <tr>\n",
       "      <th>india</th>\n",
       "      <td>8704</td>\n",
       "    </tr>\n",
       "    <tr>\n",
       "      <th>...</th>\n",
       "      <td>...</td>\n",
       "    </tr>\n",
       "    <tr>\n",
       "      <th>rwada</th>\n",
       "      <td>1</td>\n",
       "    </tr>\n",
       "    <tr>\n",
       "      <th>turkmenistan</th>\n",
       "      <td>1</td>\n",
       "    </tr>\n",
       "    <tr>\n",
       "      <th>liberia</th>\n",
       "      <td>1</td>\n",
       "    </tr>\n",
       "    <tr>\n",
       "      <th>eritrea</th>\n",
       "      <td>1</td>\n",
       "    </tr>\n",
       "    <tr>\n",
       "      <th>nicaragua</th>\n",
       "      <td>1</td>\n",
       "    </tr>\n",
       "  </tbody>\n",
       "</table>\n",
       "<p>194 rows × 1 columns</p>\n",
       "</div>"
      ],
      "text/plain": [
       "                nation\n",
       "unknown         120017\n",
       "united states    92139\n",
       "china            82153\n",
       "united kingdom   23136\n",
       "india             8704\n",
       "...                ...\n",
       "rwada                1\n",
       "turkmenistan         1\n",
       "liberia              1\n",
       "eritrea              1\n",
       "nicaragua            1\n",
       "\n",
       "[194 rows x 1 columns]"
      ]
     },
     "execution_count": 11,
     "metadata": {},
     "output_type": "execute_result"
    }
   ],
   "source": [
    "value_counts = data['nation'].value_counts().to_frame()\n",
    "value_counts.to_csv('../../Data/output/texts/post_nation.csv', encoding=\"utf_8_sig\",index=True)\n",
    "value_counts"
   ]
  },
  {
   "cell_type": "markdown",
   "metadata": {},
   "source": [
    "passenger_freight"
   ]
  },
  {
   "cell_type": "code",
   "execution_count": null,
   "metadata": {},
   "outputs": [
    {
     "data": {
      "text/html": [
       "<div>\n",
       "<style scoped>\n",
       "    .dataframe tbody tr th:only-of-type {\n",
       "        vertical-align: middle;\n",
       "    }\n",
       "\n",
       "    .dataframe tbody tr th {\n",
       "        vertical-align: top;\n",
       "    }\n",
       "\n",
       "    .dataframe thead th {\n",
       "        text-align: right;\n",
       "    }\n",
       "</style>\n",
       "<table border=\"1\" class=\"dataframe\">\n",
       "  <thead>\n",
       "    <tr style=\"text-align: right;\">\n",
       "      <th>passenger_freight</th>\n",
       "      <th>1</th>\n",
       "      <th>2</th>\n",
       "      <th>3</th>\n",
       "      <th>4</th>\n",
       "    </tr>\n",
       "    <tr>\n",
       "      <th>user_type</th>\n",
       "      <th></th>\n",
       "      <th></th>\n",
       "      <th></th>\n",
       "      <th></th>\n",
       "    </tr>\n",
       "  </thead>\n",
       "  <tbody>\n",
       "    <tr>\n",
       "      <th>--</th>\n",
       "      <td>134324</td>\n",
       "      <td>7238</td>\n",
       "      <td>197035</td>\n",
       "      <td>943</td>\n",
       "    </tr>\n",
       "    <tr>\n",
       "      <th>Business</th>\n",
       "      <td>9802</td>\n",
       "      <td>3806</td>\n",
       "      <td>12662</td>\n",
       "      <td>158</td>\n",
       "    </tr>\n",
       "    <tr>\n",
       "      <th>Government</th>\n",
       "      <td>3018</td>\n",
       "      <td>2755</td>\n",
       "      <td>5573</td>\n",
       "      <td>11</td>\n",
       "    </tr>\n",
       "    <tr>\n",
       "      <th>sum</th>\n",
       "      <td>147144</td>\n",
       "      <td>13799</td>\n",
       "      <td>215270</td>\n",
       "      <td>1112</td>\n",
       "    </tr>\n",
       "  </tbody>\n",
       "</table>\n",
       "</div>"
      ],
      "text/plain": [
       "passenger_freight       1      2       3     4\n",
       "user_type                                     \n",
       "--                 134324   7238  197035   943\n",
       "Business             9802   3806   12662   158\n",
       "Government           3018   2755    5573    11\n",
       "sum                147144  13799  215270  1112"
      ]
     },
     "execution_count": 12,
     "metadata": {},
     "output_type": "execute_result"
    }
   ],
   "source": [
    "result = data.groupby(['user_type','passenger_freight']).size().unstack(fill_value=0)\n",
    "result.loc['sum'] = result.sum()\n",
    "#result.to_csv('../Data/output/ratio_passenger_freight.csv', encoding=\"utf_8_sig\",index=True)\n",
    "result.to_csv('../../Data/output/texts/ratio_passenger_freight.csv', encoding=\"utf_8_sig\",index=True)\n",
    "result"
   ]
  },
  {
   "cell_type": "code",
   "execution_count": null,
   "metadata": {},
   "outputs": [],
   "source": []
  },
  {
   "cell_type": "markdown",
   "metadata": {},
   "source": [
    "统计不同关键词的数量"
   ]
  },
  {
   "cell_type": "code",
   "execution_count": 3,
   "metadata": {},
   "outputs": [
    {
     "name": "stderr",
     "output_type": "stream",
     "text": [
      "C:\\Users\\46649\\AppData\\Local\\Temp\\ipykernel_36100\\656825672.py:1: DtypeWarning: Columns (2) have mixed types. Specify dtype option on import or set low_memory=False.\n",
      "  data=pd.read_csv(r'../Data/interim/all_data_preprocessed_sent_topi_2.12.csv')\n"
     ]
    },
    {
     "data": {
      "text/plain": [
       "keyword\n",
       "Eve Air Mobility             196\n",
       "Eve Air Mobility             800\n",
       "Guangzhou Ehang               86\n",
       "Jaunt Air Mobility           438\n",
       "Joby Aviation              13014\n",
       "advanced air mobility      10585\n",
       "air taxi                   47394\n",
       "autonomous air vehicles      430\n",
       "drone taxis                 6092\n",
       "eVTOL                       3512\n",
       "eVTOL_t                    70759\n",
       "uam                        37258\n",
       "urban aerial mobility        233\n",
       "urban air mobility         20342\n",
       "vtol                       86613\n",
       "丰翼科技                          99\n",
       "亿航智能                        3635\n",
       "低空出行                        2049\n",
       "低空经济                       47017\n",
       "城市空中交通                      1184\n",
       "外卖无人机                        771\n",
       "大疆无人机                        743\n",
       "无人机配送                       3796\n",
       "无人驾驶航空器                     6221\n",
       "物流无人机                       5507\n",
       "电动垂直起降机                      779\n",
       "空中出租车                       1177\n",
       "空中物流                        1924\n",
       "空中的士                        3227\n",
       "空中通勤                         962\n",
       "道通智能                         482\n",
       "dtype: int64"
      ]
     },
     "execution_count": 3,
     "metadata": {},
     "output_type": "execute_result"
    }
   ],
   "source": [
    "data=pd.read_csv(r'../Data/interim/all_data_preprocessed_sent_topi_2.12.csv')\n",
    "result=data.groupby(['keyword']).size()\n",
    "result"
   ]
  },
  {
   "cell_type": "code",
   "execution_count": 4,
   "metadata": {},
   "outputs": [],
   "source": [
    "result.to_csv('../Data/output/keyword_count_2.12.csv', encoding=\"utf_8_sig\",index=True)"
   ]
  }
 ],
 "metadata": {
  "kernelspec": {
   "display_name": "base",
   "language": "python",
   "name": "python3"
  },
  "language_info": {
   "codemirror_mode": {
    "name": "ipython",
    "version": 3
   },
   "file_extension": ".py",
   "mimetype": "text/x-python",
   "name": "python",
   "nbconvert_exporter": "python",
   "pygments_lexer": "ipython3",
   "version": "3.9.12"
  }
 },
 "nbformat": 4,
 "nbformat_minor": 2
}

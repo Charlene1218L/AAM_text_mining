{
 "cells": [
  {
   "cell_type": "code",
   "execution_count": 1,
   "metadata": {},
   "outputs": [],
   "source": [
    "import pandas as pd"
   ]
  },
  {
   "cell_type": "code",
   "execution_count": 3,
   "metadata": {},
   "outputs": [
    {
     "name": "stderr",
     "output_type": "stream",
     "text": [
      "C:\\Users\\46649\\AppData\\Local\\Temp\\ipykernel_37984\\7853874.py:1: DtypeWarning: Columns (2,7,8) have mixed types. Specify dtype option on import or set low_memory=False.\n",
      "  data=pd.read_csv(r'D:\\\\OneDrive\\\\UAM\\\\Data\\\\Z_Topic Analysis_1\\\\1.17\\\\twitter_weibo_all_cleaned_no_anal.csv')\n"
     ]
    }
   ],
   "source": [
    "data=pd.read_csv(r'../Data/interim/all_data_preprocessed.csv')"
   ]
  },
  {
   "cell_type": "markdown",
   "metadata": {},
   "source": [
    "Posts_num"
   ]
  },
  {
   "cell_type": "code",
   "execution_count": 4,
   "metadata": {},
   "outputs": [
    {
     "data": {
      "text/html": [
       "<div>\n",
       "<style scoped>\n",
       "    .dataframe tbody tr th:only-of-type {\n",
       "        vertical-align: middle;\n",
       "    }\n",
       "\n",
       "    .dataframe tbody tr th {\n",
       "        vertical-align: top;\n",
       "    }\n",
       "\n",
       "    .dataframe thead th {\n",
       "        text-align: right;\n",
       "    }\n",
       "</style>\n",
       "<table border=\"1\" class=\"dataframe\">\n",
       "  <thead>\n",
       "    <tr style=\"text-align: right;\">\n",
       "      <th>year</th>\n",
       "      <th>2015</th>\n",
       "      <th>2016</th>\n",
       "      <th>2017</th>\n",
       "      <th>2018</th>\n",
       "      <th>2019</th>\n",
       "      <th>2020</th>\n",
       "      <th>2021</th>\n",
       "      <th>2022</th>\n",
       "      <th>2023</th>\n",
       "      <th>2024</th>\n",
       "    </tr>\n",
       "    <tr>\n",
       "      <th>user_type</th>\n",
       "      <th></th>\n",
       "      <th></th>\n",
       "      <th></th>\n",
       "      <th></th>\n",
       "      <th></th>\n",
       "      <th></th>\n",
       "      <th></th>\n",
       "      <th></th>\n",
       "      <th></th>\n",
       "      <th></th>\n",
       "    </tr>\n",
       "  </thead>\n",
       "  <tbody>\n",
       "    <tr>\n",
       "      <th>--</th>\n",
       "      <td>12719</td>\n",
       "      <td>16670</td>\n",
       "      <td>26052</td>\n",
       "      <td>29590</td>\n",
       "      <td>34525</td>\n",
       "      <td>36740</td>\n",
       "      <td>47883</td>\n",
       "      <td>53528</td>\n",
       "      <td>49002</td>\n",
       "      <td>101941</td>\n",
       "    </tr>\n",
       "    <tr>\n",
       "      <th>Business</th>\n",
       "      <td>299</td>\n",
       "      <td>400</td>\n",
       "      <td>643</td>\n",
       "      <td>970</td>\n",
       "      <td>893</td>\n",
       "      <td>854</td>\n",
       "      <td>1515</td>\n",
       "      <td>1455</td>\n",
       "      <td>2337</td>\n",
       "      <td>17980</td>\n",
       "    </tr>\n",
       "    <tr>\n",
       "      <th>Government</th>\n",
       "      <td>37</td>\n",
       "      <td>65</td>\n",
       "      <td>277</td>\n",
       "      <td>457</td>\n",
       "      <td>317</td>\n",
       "      <td>355</td>\n",
       "      <td>364</td>\n",
       "      <td>398</td>\n",
       "      <td>1265</td>\n",
       "      <td>8040</td>\n",
       "    </tr>\n",
       "    <tr>\n",
       "      <th>Sum</th>\n",
       "      <td>13055</td>\n",
       "      <td>17135</td>\n",
       "      <td>26972</td>\n",
       "      <td>31017</td>\n",
       "      <td>35735</td>\n",
       "      <td>37949</td>\n",
       "      <td>49762</td>\n",
       "      <td>55381</td>\n",
       "      <td>52604</td>\n",
       "      <td>127961</td>\n",
       "    </tr>\n",
       "  </tbody>\n",
       "</table>\n",
       "</div>"
      ],
      "text/plain": [
       "year         2015   2016   2017   2018   2019   2020   2021   2022   2023  \\\n",
       "user_type                                                                   \n",
       "--          12719  16670  26052  29590  34525  36740  47883  53528  49002   \n",
       "Business      299    400    643    970    893    854   1515   1455   2337   \n",
       "Government     37     65    277    457    317    355    364    398   1265   \n",
       "Sum         13055  17135  26972  31017  35735  37949  49762  55381  52604   \n",
       "\n",
       "year          2024  \n",
       "user_type           \n",
       "--          101941  \n",
       "Business     17980  \n",
       "Government    8040  \n",
       "Sum         127961  "
      ]
     },
     "execution_count": 4,
     "metadata": {},
     "output_type": "execute_result"
    }
   ],
   "source": [
    "result = data.groupby(['user_type','year']).size().unstack(fill_value=0)\n",
    "result.loc['Sum'] = result.sum()\n",
    "result.to_csv('./Data/output/post_num.csv', encoding=\"utf_8_sig\",index=True)\n",
    "result"
   ]
  },
  {
   "cell_type": "markdown",
   "metadata": {},
   "source": [
    "Posts_nation"
   ]
  },
  {
   "cell_type": "code",
   "execution_count": 5,
   "metadata": {},
   "outputs": [
    {
     "data": {
      "text/html": [
       "<div>\n",
       "<style scoped>\n",
       "    .dataframe tbody tr th:only-of-type {\n",
       "        vertical-align: middle;\n",
       "    }\n",
       "\n",
       "    .dataframe tbody tr th {\n",
       "        vertical-align: top;\n",
       "    }\n",
       "\n",
       "    .dataframe thead th {\n",
       "        text-align: right;\n",
       "    }\n",
       "</style>\n",
       "<table border=\"1\" class=\"dataframe\">\n",
       "  <thead>\n",
       "    <tr style=\"text-align: right;\">\n",
       "      <th></th>\n",
       "      <th>nation</th>\n",
       "    </tr>\n",
       "  </thead>\n",
       "  <tbody>\n",
       "    <tr>\n",
       "      <th>unknown</th>\n",
       "      <td>145382</td>\n",
       "    </tr>\n",
       "    <tr>\n",
       "      <th>united states</th>\n",
       "      <td>109614</td>\n",
       "    </tr>\n",
       "    <tr>\n",
       "      <th>china</th>\n",
       "      <td>91905</td>\n",
       "    </tr>\n",
       "    <tr>\n",
       "      <th>united kingdom</th>\n",
       "      <td>26947</td>\n",
       "    </tr>\n",
       "    <tr>\n",
       "      <th>india</th>\n",
       "      <td>9449</td>\n",
       "    </tr>\n",
       "    <tr>\n",
       "      <th>...</th>\n",
       "      <td>...</td>\n",
       "    </tr>\n",
       "    <tr>\n",
       "      <th>cabo verde</th>\n",
       "      <td>1</td>\n",
       "    </tr>\n",
       "    <tr>\n",
       "      <th>suriname</th>\n",
       "      <td>1</td>\n",
       "    </tr>\n",
       "    <tr>\n",
       "      <th>pirate islands</th>\n",
       "      <td>1</td>\n",
       "    </tr>\n",
       "    <tr>\n",
       "      <th>rhode island</th>\n",
       "      <td>1</td>\n",
       "    </tr>\n",
       "    <tr>\n",
       "      <th>eritrea</th>\n",
       "      <td>1</td>\n",
       "    </tr>\n",
       "  </tbody>\n",
       "</table>\n",
       "<p>196 rows × 1 columns</p>\n",
       "</div>"
      ],
      "text/plain": [
       "                nation\n",
       "unknown         145382\n",
       "united states   109614\n",
       "china            91905\n",
       "united kingdom   26947\n",
       "india             9449\n",
       "...                ...\n",
       "cabo verde           1\n",
       "suriname             1\n",
       "pirate islands       1\n",
       "rhode island         1\n",
       "eritrea              1\n",
       "\n",
       "[196 rows x 1 columns]"
      ]
     },
     "execution_count": 5,
     "metadata": {},
     "output_type": "execute_result"
    }
   ],
   "source": [
    "value_counts = data['nation'].value_counts().to_frame()\n",
    "value_counts.to_csv('../Data/output/post_nation.csv', encoding=\"utf_8_sig\",index=True)\n",
    "value_counts"
   ]
  },
  {
   "cell_type": "markdown",
   "metadata": {},
   "source": [
    "passenger_freight"
   ]
  },
  {
   "cell_type": "code",
   "execution_count": 23,
   "metadata": {},
   "outputs": [
    {
     "data": {
      "text/html": [
       "<div>\n",
       "<style scoped>\n",
       "    .dataframe tbody tr th:only-of-type {\n",
       "        vertical-align: middle;\n",
       "    }\n",
       "\n",
       "    .dataframe tbody tr th {\n",
       "        vertical-align: top;\n",
       "    }\n",
       "\n",
       "    .dataframe thead th {\n",
       "        text-align: right;\n",
       "    }\n",
       "</style>\n",
       "<table border=\"1\" class=\"dataframe\">\n",
       "  <thead>\n",
       "    <tr style=\"text-align: right;\">\n",
       "      <th>passenger_freight</th>\n",
       "      <th>1</th>\n",
       "      <th>2</th>\n",
       "      <th>3</th>\n",
       "      <th>4</th>\n",
       "    </tr>\n",
       "    <tr>\n",
       "      <th>user_type</th>\n",
       "      <th></th>\n",
       "      <th></th>\n",
       "      <th></th>\n",
       "      <th></th>\n",
       "    </tr>\n",
       "  </thead>\n",
       "  <tbody>\n",
       "    <tr>\n",
       "      <th>--</th>\n",
       "      <td>146766</td>\n",
       "      <td>5199</td>\n",
       "      <td>153663</td>\n",
       "      <td>1022</td>\n",
       "    </tr>\n",
       "    <tr>\n",
       "      <th>Business</th>\n",
       "      <td>5145</td>\n",
       "      <td>1908</td>\n",
       "      <td>2156</td>\n",
       "      <td>157</td>\n",
       "    </tr>\n",
       "    <tr>\n",
       "      <th>Government</th>\n",
       "      <td>1522</td>\n",
       "      <td>1332</td>\n",
       "      <td>672</td>\n",
       "      <td>9</td>\n",
       "    </tr>\n",
       "    <tr>\n",
       "      <th>sum</th>\n",
       "      <td>153433</td>\n",
       "      <td>8439</td>\n",
       "      <td>156491</td>\n",
       "      <td>1188</td>\n",
       "    </tr>\n",
       "  </tbody>\n",
       "</table>\n",
       "</div>"
      ],
      "text/plain": [
       "passenger_freight       1     2       3     4\n",
       "user_type                                    \n",
       "--                 146766  5199  153663  1022\n",
       "Business             5145  1908    2156   157\n",
       "Government           1522  1332     672     9\n",
       "sum                153433  8439  156491  1188"
      ]
     },
     "execution_count": 23,
     "metadata": {},
     "output_type": "execute_result"
    }
   ],
   "source": [
    "result = data.groupby(['user_type','passenger_freight']).size().unstack(fill_value=0)\n",
    "result.loc['sum'] = result.sum()\n",
    "result.to_csv('../Data/output/ratio_passenger_freight.csv', encoding=\"utf_8_sig\",index=True)\n",
    "result"
   ]
  },
  {
   "cell_type": "code",
   "execution_count": null,
   "metadata": {},
   "outputs": [],
   "source": []
  },
  {
   "cell_type": "markdown",
   "metadata": {},
   "source": [
    "统计不同关键词的数量"
   ]
  },
  {
   "cell_type": "code",
   "execution_count": 16,
   "metadata": {},
   "outputs": [
    {
     "name": "stderr",
     "output_type": "stream",
     "text": [
      "C:\\Users\\46649\\AppData\\Local\\Temp\\ipykernel_2844\\2272255690.py:1: DtypeWarning: Columns (2) have mixed types. Specify dtype option on import or set low_memory=False.\n",
      "  data=pd.read_csv(r'D:\\\\OneDrive\\\\UAM\\\\Data\\\\Z_Topic Analysis_1\\\\12.12\\\\twitter_weibo_all_cleaned_kw.csv')\n"
     ]
    },
    {
     "data": {
      "text/plain": [
       "keyword\n",
       "Eve Air Mobility              800\n",
       "Guangzhou Ehang                33\n",
       "Jaunt Air Mobility            434\n",
       "Joby Aviation               10314\n",
       "advanced air mobility        8628\n",
       "air taxi                    41817\n",
       "autonomous air vehicles       238\n",
       "drone taxis                  5907\n",
       "eVTOL                         586\n",
       "eVTOL_t                     55275\n",
       "uam                         57748\n",
       "urban aerial mobility         206\n",
       "urban air mobility          18362\n",
       "vtol                       101389\n",
       "丰翼科技                           84\n",
       "亿航智能                         2776\n",
       "低空出行                          887\n",
       "低空经济                         2162\n",
       "城市空中交通                        494\n",
       "外卖无人机                         339\n",
       "大疆无人机                         386\n",
       "无人机配送                        2008\n",
       "无人驾驶航空器                      2767\n",
       "物流无人机                        2132\n",
       "电动垂直起降机                       196\n",
       "空中出租车                        1120\n",
       "空中物流                          479\n",
       "空中的士                         1190\n",
       "空中通勤                          403\n",
       "道通智能                          391\n",
       "dtype: int64"
      ]
     },
     "execution_count": 16,
     "metadata": {},
     "output_type": "execute_result"
    }
   ],
   "source": [
    "data=pd.read_csv(r'../Data/interim/all_data_preprocessed.csv')\n",
    "result=data.groupby(['keyword']).size()\n",
    "result"
   ]
  },
  {
   "cell_type": "code",
   "execution_count": 19,
   "metadata": {},
   "outputs": [],
   "source": [
    "result.to_csv('../Data/output/keyword_count.csv', encoding=\"utf_8_sig\",index=True)"
   ]
  }
 ],
 "metadata": {
  "kernelspec": {
   "display_name": "base",
   "language": "python",
   "name": "python3"
  },
  "language_info": {
   "codemirror_mode": {
    "name": "ipython",
    "version": 3
   },
   "file_extension": ".py",
   "mimetype": "text/x-python",
   "name": "python",
   "nbconvert_exporter": "python",
   "pygments_lexer": "ipython3",
   "version": "3.9.12"
  }
 },
 "nbformat": 4,
 "nbformat_minor": 2
}
